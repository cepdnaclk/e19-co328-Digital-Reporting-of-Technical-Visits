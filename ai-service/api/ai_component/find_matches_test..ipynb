{
 "cells": [
  {
   "cell_type": "code",
   "execution_count": 1,
   "metadata": {},
   "outputs": [],
   "source": [
    "import json\n",
    "from find_matches import find_top_matches"
   ]
  },
  {
   "cell_type": "code",
   "execution_count": 2,
   "metadata": {},
   "outputs": [],
   "source": [
    "# Load technician profiles\n",
    "with open('technicians_large.json', 'r') as file:\n",
    "    technicians_details = json.load(file)\n",
    "\n",
    "# Load task descriptions\n",
    "with open('tasks_large.json', 'r') as file:\n",
    "    tasks_with_technicians = json.load(file)"
   ]
  },
  {
   "cell_type": "code",
   "execution_count": 3,
   "metadata": {},
   "outputs": [
    {
     "data": {
      "text/plain": [
       "{'id': 'T001',\n",
       " 'name': 'Kelly Yang',\n",
       " 'capabilities': 'Expert in diagnosing and repairing HVAC systems with advanced knowledge in climate control solutions.',\n",
       " 'experience': 17,\n",
       " 'availability': 'On Leave',\n",
       " 'location': 'Chicago',\n",
       " 'performance': {'success_rate': 0.9, 'feedback_score': 4.28}}"
      ]
     },
     "execution_count": 3,
     "metadata": {},
     "output_type": "execute_result"
    }
   ],
   "source": [
    "technicians_details[0]"
   ]
  },
  {
   "cell_type": "code",
   "execution_count": 4,
   "metadata": {},
   "outputs": [
    {
     "data": {
      "text/plain": [
       "{'id': 'TS001',\n",
       " 'description': 'Fix the broken sprinkler system in the garden.',\n",
       " 'location': 'Los Angeles',\n",
       " 'priority': 'Medium',\n",
       " 'assigned_technician': 'T063'}"
      ]
     },
     "execution_count": 4,
     "metadata": {},
     "output_type": "execute_result"
    }
   ],
   "source": [
    "tasks_with_technicians[0]"
   ]
  },
  {
   "cell_type": "code",
   "execution_count": 5,
   "metadata": {},
   "outputs": [
    {
     "data": {
      "text/plain": [
       "{'id': 'TS001',\n",
       " 'description': 'Fix the broken sprinkler system in the garden.'}"
      ]
     },
     "execution_count": 5,
     "metadata": {},
     "output_type": "execute_result"
    }
   ],
   "source": [
    "tasks = []\n",
    "\n",
    "for t in tasks_with_technicians:\n",
    "    tesk = {\n",
    "        'id': t['id'],\n",
    "        'description': t['description']\n",
    "    }\n",
    "\n",
    "    tasks.append(tesk)\n",
    "\n",
    "tasks[0]"
   ]
  },
  {
   "cell_type": "code",
   "execution_count": 6,
   "metadata": {},
   "outputs": [
    {
     "data": {
      "text/plain": [
       "{'id': 'T001',\n",
       " 'description': 'Expert in diagnosing and repairing HVAC systems with advanced knowledge in climate control solutions.'}"
      ]
     },
     "execution_count": 6,
     "metadata": {},
     "output_type": "execute_result"
    }
   ],
   "source": [
    "technicians = []\n",
    "\n",
    "for t in technicians_details:\n",
    "    tech = {\n",
    "        'id': t['id'],\n",
    "        'description': t['capabilities']\n",
    "    }\n",
    "\n",
    "    technicians.append(tech)\n",
    "\n",
    "technicians[0]"
   ]
  },
  {
   "cell_type": "code",
   "execution_count": 7,
   "metadata": {},
   "outputs": [
    {
     "name": "stdout",
     "output_type": "stream",
     "text": [
      "Missing data in technician: {'id': 'T001', 'description': 'Expert in diagnosing and repairing HVAC systems with advanced knowledge in climate control solutions.'}\n",
      "Missing data in technician: {'id': 'T002', 'description': 'Skilled in installing and maintaining complex plumbing systems, including emergency repairs and new installations.'}\n",
      "Missing data in technician: {'id': 'T003', 'description': 'Certified electrician with extensive experience in residential and commercial electrical systems, including troubleshooting and upgrades.'}\n",
      "Missing data in technician: {'id': 'T004', 'description': 'Proficient in repairing and setting up computer hardware, specializing in network configurations and system optimization.'}\n",
      "Missing data in technician: {'id': 'T005', 'description': 'Experienced carpenter focusing on home renovations, custom cabinetry, and detailed finish work.'}\n",
      "Missing data in technician: {'id': 'T006', 'description': 'Specialist in automotive repair, capable of handling engine diagnostics, electrical issues, and routine maintenance.'}\n",
      "Missing data in technician: {'id': 'T007', 'description': 'Knowledgeable in machine maintenance, particularly in industrial environments, with a focus on predictive maintenance techniques.'}\n",
      "Missing data in technician: {'id': 'T008', 'description': 'Adept at software installation and configuration, including troubleshooting software conflicts and ensuring compatibility.'}\n",
      "Missing data in technician: {'id': 'T009', 'description': 'Skilled in structural engineering, particularly in designing and overseeing residential construction projects.'}\n",
      "Missing data in technician: {'id': 'T010', 'description': 'Expert in data cabling and network infrastructure, experienced in large-scale commercial installations.'}\n",
      "Missing data in technician: {'id': 'T011', 'description': 'Experienced in telecommunications, including the installation and maintenance of telephony systems and internet connections.'}\n",
      "Missing data in technician: {'id': 'T012', 'description': 'Proficient in repairing home appliances, with a focus on refrigerators, washing machines, and ovens.'}\n",
      "Missing data in technician: {'id': 'T013', 'description': 'Specialist in painting and decorating, known for high-quality finishes and attention to detail in residential spaces.'}\n",
      "Missing data in technician: {'id': 'T014', 'description': 'Expert in garden landscaping, with a flair for designing and maintaining aesthetically pleasing and functional outdoor spaces.'}\n",
      "Missing data in technician: {'id': 'T015', 'description': 'Skilled in roofing repairs and installations, including the application of various roofing materials and techniques.'}\n",
      "Missing data in technician: {'id': 'T016', 'description': 'Experienced in flooring installation and repair, specializing in hardwood, laminate, and tile floors.'}\n",
      "Missing data in technician: {'id': 'T017', 'description': 'Adept at installing and maintaining security systems, including CCTV, alarms, and access control systems.'}\n",
      "Missing data in technician: {'id': 'T018', 'description': 'Certified in solar panel installation, with experience in both residential and commercial solar energy solutions.'}\n",
      "Missing data in technician: {'id': 'T019', 'description': 'Expert in boiler repairs and maintenance, with a strong background in both residential and industrial heating systems.'}\n",
      "Missing data in technician: {'id': 'T020', 'description': 'Specialist in window installation, capable of handling standard and custom window sizes and styles.'}\n",
      "Missing data in technician: {'id': 'T021', 'description': 'Experienced in door installation, including security doors, sliding doors, and interior doors.'}\n",
      "Missing data in technician: {'id': 'T022', 'description': 'Proficient welder with expertise in various welding techniques and materials.'}\n",
      "Missing data in technician: {'id': 'T023', 'description': 'Expert in fire alarm systems installation and maintenance, ensuring compliance with safety standards.'}\n",
      "Missing data in technician: {'id': 'T024', 'description': 'Skilled in home automation systems, including smart lighting, thermostats, and security integrations.'}\n",
      "Missing data in technician: {'id': 'T025', 'description': 'Certified in HVAC system design and installation, specializing in energy-efficient solutions for residential and commercial buildings.'}\n",
      "Missing data in technician: {'id': 'T026', 'description': 'Experienced in 3D printing setup and maintenance, with a focus on optimizing print quality and machine performance.'}\n",
      "Missing data in technician: {'id': 'T027', 'description': 'Proficient in drone repairs, capable of troubleshooting and fixing mechanical and software issues in various models.'}\n",
      "Missing data in technician: {'id': 'T028', 'description': 'Specialist in electronic circuit design, including prototyping, testing, and troubleshooting electronic systems.'}\n",
      "Missing data in technician: {'id': 'T029', 'description': 'Adept at managing large-scale IT infrastructure projects, including network upgrades and data center expansions.'}\n",
      "Missing data in technician: {'id': 'T030', 'description': 'Knowledgeable in fiber optic cable installations, with a focus on high-speed internet and communication systems.'}\n",
      "Missing data in technician: {'id': 'T031', 'description': 'Experienced in lighting design and installation, creating effective and aesthetic lighting solutions for various environments.'}\n",
      "Missing data in technician: {'id': 'T032', 'description': 'Expert in elevator maintenance and repair, ensuring safe and efficient operation of passenger and freight elevators.'}\n",
      "Missing data in technician: {'id': 'T033', 'description': 'Skilled in locksmith services, including lock installations, repairs, and emergency access solutions.'}\n",
      "Missing data in technician: {'id': 'T034', 'description': 'Certified in renewable energy systems, with expertise in wind and solar energy installations and maintenance.'}\n",
      "Missing data in technician: {'id': 'T035', 'description': 'Specialist in water filtration systems, capable of installing and maintaining residential and commercial water purification solutions.'}\n",
      "Missing data in technician: {'id': 'T036', 'description': 'Adept at programming industrial automation systems, including PLCs and robotics.'}\n",
      "Missing data in technician: {'id': 'T037', 'description': 'Experienced in HVAC system diagnostics, able to quickly identify and resolve system inefficiencies and faults.'}\n",
      "Missing data in technician: {'id': 'T038', 'description': 'Proficient in the installation of audio-visual equipment, including home theaters, conference rooms, and public address systems.'}\n",
      "Missing data in technician: {'id': 'T039', 'description': 'Skilled in greenhouse construction and maintenance, focusing on sustainable and efficient plant growth environments.'}\n",
      "Missing data in technician: {'id': 'T040', 'description': 'Expert in pest control solutions, with experience in residential and commercial pest management strategies.'}\n",
      "Missing data in technician: {'id': 'T041', 'description': 'Certified in the installation and maintenance of geothermal heating and cooling systems.'}\n",
      "Missing data in technician: {'id': 'T042', 'description': 'Specialist in marine electrical systems, with a focus on boat wiring and marine electronics installations.'}\n",
      "Missing data in technician: {'id': 'T043', 'description': 'Experienced in home energy audits, providing recommendations for improving energy efficiency and reducing utility costs.'}\n",
      "Missing data in technician: {'id': 'T044', 'description': 'Adept at customizing automotive interiors, including upholstery, sound systems, and electronic accessories.'}\n",
      "Missing data in technician: {'id': 'T045', 'description': 'Knowledgeable in the installation of water conservation systems, such as rainwater harvesting and greywater recycling.'}\n",
      "Missing data in technician: {'id': 'T046', 'description': 'Proficient in the setup and maintenance of home fitness equipment, ensuring safe and effective use.'}\n",
      "Missing data in technician: {'id': 'T047', 'description': 'Skilled in the installation and repair of irrigation systems, optimizing water use for landscapes and gardens.'}\n",
      "Missing data in technician: {'id': 'T048', 'description': 'Expert in wind turbine maintenance, capable of performing routine inspections and repairs to maximize efficiency.'}\n",
      "Missing data in technician: {'id': 'T049', 'description': 'Specialist in pool and spa maintenance, including chemical balancing, cleaning, and equipment repairs.'}\n",
      "Missing data in technician: {'id': 'T050', 'description': 'Experienced in concrete work, including foundations, driveways, and decorative concrete applications.'}\n",
      "Missing data in technician: {'id': 'T051', 'description': 'Adept at furniture assembly and repairs, specializing in both modern and antique pieces.'}\n",
      "Missing data in technician: {'id': 'T052', 'description': 'Certified in the installation of backup generators, providing reliable power solutions for residential and commercial properties.'}\n",
      "Missing data in technician: {'id': 'T053', 'description': 'Skilled in the repair and maintenance of refrigeration systems, including walk-in coolers and freezers.'}\n",
      "Missing data in technician: {'id': 'T054', 'description': 'Proficient in the installation of home security fences and gates, enhancing property security and aesthetics.'}\n",
      "Missing data in technician: {'id': 'T055', 'description': 'Expert in installing and maintaining commercial kitchen equipment, including ovens, grills, and refrigeration units.'}\n",
      "Missing data in technician: {'id': 'T056', 'description': 'Specialist in the installation and maintenance of audio surveillance systems for security applications.'}\n",
      "Missing data in technician: {'id': 'T057', 'description': 'Experienced in the setup of remote work environments, including network configurations and ergonomic office solutions.'}\n",
      "Missing data in technician: {'id': 'T058', 'description': 'Adept at troubleshooting and repairing industrial machinery, ensuring minimal downtime and efficient operation.'}\n",
      "Missing data in technician: {'id': 'T059', 'description': 'Knowledgeable in the installation of solar water heating systems, providing sustainable hot water solutions.'}\n",
      "Missing data in technician: {'id': 'T060', 'description': 'Proficient in the setup and maintenance of aquariums, including freshwater and marine systems.'}\n",
      "Missing data in technician: {'id': 'T061', 'description': 'Skilled in the installation of window treatments, such as blinds, curtains, and shutters.'}\n",
      "Missing data in technician: {'id': 'T062', 'description': 'Expert in bicycle repair and maintenance, including gear adjustments, brake repairs, and tire replacements.'}\n",
      "Missing data in technician: {'id': 'T063', 'description': 'Specialist in the setup and maintenance of home brewing equipment, ensuring optimal brewing conditions.'}\n",
      "Missing data in technician: {'id': 'T064', 'description': 'Experienced in the installation of skylights, enhancing natural light and ventilation in buildings.'}\n",
      "Missing data in technician: {'id': 'T065', 'description': 'Adept at installing and repairing garage doors, including automatic openers and security features.'}\n",
      "Missing data in technician: {'id': 'T066', 'description': 'Certified in welding and metal fabrication, capable of creating custom metal structures and components.'}\n",
      "Missing data in technician: {'id': 'T067', 'description': 'Skilled in the installation of EV (Electric Vehicle) charging stations for residential and commercial use.'}\n",
      "Missing data in technician: {'id': 'T068', 'description': 'Proficient in the setup and maintenance of home office technology, including computers, printers, and network devices.'}\n",
      "Missing data in technician: {'id': 'T069', 'description': 'Expert in the repair and maintenance of sewing machines, ensuring smooth operation for various types of sewing projects.'}\n",
      "Missing data in technician: {'id': 'T070', 'description': 'Specialist in the installation of satellite TV systems, providing reliable and high-quality television service.'}\n",
      "Missing data in technician: {'id': 'T071', 'description': 'Experienced in the maintenance of aquaculture systems, including fish tanks and breeding setups.'}\n",
      "Missing data in technician: {'id': 'T072', 'description': 'Adept at configuring and maintaining home networks, ensuring reliable internet connectivity and device integration.'}\n",
      "Missing data in technician: {'id': 'T073', 'description': 'Knowledgeable in the setup and repair of greenhouse automation systems, including climate control and irrigation.'}\n",
      "Missing data in technician: {'id': 'T074', 'description': 'Proficient in the installation and repair of intercom systems for residential and commercial properties.'}\n",
      "Missing data in technician: {'id': 'T075', 'description': 'Skilled in the repair and maintenance of woodworking machinery, including saws, planers, and lathes.'}\n",
      "Missing data in technician: {'id': 'T076', 'description': 'Expert in the setup and maintenance of outdoor kitchens, including grills, countertops, and refrigeration.'}\n",
      "Missing data in technician: {'id': 'T077', 'description': 'Specialist in configuring and maintaining home theaters, optimizing audio-visual performance and user experience.'}\n",
      "Missing data in technician: {'id': 'T078', 'description': 'Experienced in the installation of radiant heating systems, providing efficient and even heating for floors and walls.'}\n",
      "Missing data in technician: {'id': 'T079', 'description': 'Adept at repairing and maintaining lawn care equipment, including mowers, trimmers, and blowers.'}\n",
      "Missing data in technician: {'id': 'T080', 'description': 'Certified in the installation and maintenance of commercial refrigeration systems, ensuring reliable operation for food storage.'}\n",
      "Missing data in technician: {'id': 'T081', 'description': 'Skilled in the repair and setup of office furniture, including ergonomic chairs, desks, and storage solutions.'}\n",
      "Missing data in technician: {'id': 'T082', 'description': 'Proficient in configuring and maintaining home lighting automation systems, including smart switches and dimmers.'}\n",
      "Missing data in technician: {'id': 'T083', 'description': 'Expert in the installation of indoor and outdoor tile, creating durable and aesthetic flooring and wall solutions.'}\n",
      "Missing data in technician: {'id': 'T084', 'description': 'Specialist in configuring and repairing smart home devices, including voice assistants and smart locks.'}\n",
      "Missing data in technician: {'id': 'T085', 'description': 'Experienced in the installation and maintenance of water softeners, providing solutions for hard water problems.'}\n",
      "Missing data in technician: {'id': 'T086', 'description': 'Adept at installing and maintaining building automation systems, including HVAC, lighting, and security controls.'}\n",
      "Missing data in technician: {'id': 'T087', 'description': 'Knowledgeable in the setup and maintenance of solar-powered irrigation systems, optimizing water use in agriculture.'}\n",
      "Missing data in technician: {'id': 'T088', 'description': 'Proficient in the repair and maintenance of small engines, including lawnmowers, chainsaws, and generators.'}\n",
      "Missing data in technician: {'id': 'T089', 'description': 'Skilled in the installation of outdoor lighting systems, enhancing safety and aesthetics for residential and commercial properties.'}\n",
      "Missing data in technician: {'id': 'T090', 'description': 'Expert in the repair and installation of commercial ventilation systems, ensuring optimal air quality and comfort.'}\n",
      "Missing data in technician: {'id': 'T091', 'description': 'Specialist in configuring and maintaining computer servers, including hardware upgrades and software installations.'}\n",
      "Missing data in technician: {'id': 'T092', 'description': 'Experienced in the installation of underground utilities, including water, gas, and electrical lines.'}\n",
      "Missing data in technician: {'id': 'T093', 'description': 'Adept at repairing and maintaining industrial refrigeration systems, ensuring efficient cooling for large-scale operations.'}\n",
      "Missing data in technician: {'id': 'T094', 'description': 'Certified in the installation of energy-efficient windows and doors, improving insulation and reducing energy costs.'}\n",
      "Missing data in technician: {'id': 'T095', 'description': 'Skilled in the setup and maintenance of video conferencing systems, providing reliable solutions for remote communication.'}\n",
      "Missing data in technician: {'id': 'T096', 'description': 'Proficient in the repair and installation of residential water heaters, including tankless and solar options.'}\n",
      "Missing data in technician: {'id': 'T097', 'description': 'Expert in configuring and maintaining home entertainment systems, including streaming devices and surround sound setups.'}\n",
      "Missing data in technician: {'id': 'T098', 'description': 'Specialist in the installation and maintenance of rooftop solar panels, maximizing energy production for homes and businesses.'}\n",
      "Missing data in technician: {'id': 'T099', 'description': 'Experienced in the repair and maintenance of HVAC ductwork, ensuring proper airflow and system efficiency.'}\n",
      "Missing data in technician: {'id': 'T100', 'description': 'Adept at installing and repairing irrigation pumps and controls, optimizing water distribution for agricultural and landscaping applications.'}\n",
      "Missing data in task: {'id': 'TS001', 'description': 'Fix the broken sprinkler system in the garden.'}\n",
      "Missing data in task: {'id': 'TS002', 'description': 'Install new hand dryers in the public restrooms.'}\n",
      "Missing data in task: {'id': 'TS003', 'description': 'Install new telephone lines in the customer service center.'}\n",
      "Missing data in task: {'id': 'TS004', 'description': 'Install new shelving units in the warehouse.'}\n",
      "Missing data in task: {'id': 'TS005', 'description': 'Install new hand dryers in the public restrooms.'}\n",
      "Missing data in task: {'id': 'TS006', 'description': 'Service the air conditioning system in the laboratory.'}\n",
      "Missing data in task: {'id': 'TS007', 'description': 'Install new backup batteries in the emergency lighting system.'}\n",
      "Missing data in task: {'id': 'TS008', 'description': 'Install a new thermostat in the maintenance office.'}\n",
      "Missing data in task: {'id': 'TS009', 'description': 'Repair the malfunctioning coffee machine in the break room.'}\n",
      "Missing data in task: {'id': 'TS010', 'description': 'Install new power strips in the computer lab.'}\n",
      "Missing data in task: {'id': 'TS011', 'description': 'Install new ergonomic chairs in the training room.'}\n",
      "Missing data in task: {'id': 'TS012', 'description': 'Install new lighting fixtures in the exhibition hall.'}\n",
      "Missing data in task: {'id': 'TS013', 'description': 'Repair the damaged insulation in the warehouse.'}\n",
      "Missing data in task: {'id': 'TS014', 'description': 'Inspect and service the fire alarm system.'}\n",
      "Missing data in task: {'id': 'TS015', 'description': 'Install new protective barriers in the industrial area.'}\n",
      "Missing data in task: {'id': 'TS016', 'description': 'Install new emergency exit signs in the building.'}\n",
      "Missing data in task: {'id': 'TS017', 'description': 'Install new ceiling fans in the residential units.'}\n",
      "Missing data in task: {'id': 'TS018', 'description': 'Install new backup batteries in the emergency lighting system.'}\n",
      "Missing data in task: {'id': 'TS019', 'description': 'Fix the broken alarm system in the admin office.'}\n",
      "Missing data in task: {'id': 'TS020', 'description': 'Install new telephone lines in the customer service center.'}\n",
      "Missing data in task: {'id': 'TS021', 'description': 'Install new office cubicles in the open area.'}\n",
      "Missing data in task: {'id': 'TS022', 'description': \"Fix the broken HVAC unit in the CEO's office.\"}\n",
      "Missing data in task: {'id': 'TS023', 'description': 'Fix the broken heating unit in the storage warehouse.'}\n",
      "Missing data in task: {'id': 'TS024', 'description': 'Install new ergonomic chairs in the training room.'}\n",
      "Missing data in task: {'id': 'TS025', 'description': 'Repair the malfunctioning thermostat in the conference room.'}\n",
      "Missing data in task: {'id': 'TS026', 'description': 'Install new access control systems at the main gate.'}\n",
      "Missing data in task: {'id': 'TS027', 'description': 'Install new flooring in the employee break room.'}\n",
      "Missing data in task: {'id': 'TS028', 'description': 'Fix the broken garage door in the maintenance facility.'}\n",
      "Missing data in task: {'id': 'TS029', 'description': 'Service the central vacuum system in the hotel.'}\n",
      "Missing data in task: {'id': 'TS030', 'description': 'Install new ergonomic chairs in the training room.'}\n",
      "Missing data in task: {'id': 'TS031', 'description': 'Install new telephone lines in the customer service center.'}\n",
      "Missing data in task: {'id': 'TS032', 'description': 'Service the water filtration system in the cafeteria.'}\n",
      "Missing data in task: {'id': 'TS033', 'description': 'Replace the damaged tiles in the restroom.'}\n",
      "Missing data in task: {'id': 'TS034', 'description': 'Service the HVAC system on the rooftop.'}\n",
      "Missing data in task: {'id': 'TS035', 'description': 'Service the automatic doors in the main entrance.'}\n",
      "Missing data in task: {'id': 'TS036', 'description': 'Install new access control systems at the main gate.'}\n",
      "Missing data in task: {'id': 'TS037', 'description': 'Service the HVAC system on the rooftop.'}\n",
      "Missing data in task: {'id': 'TS038', 'description': 'Fix the broken heating unit in the storage warehouse.'}\n",
      "Missing data in task: {'id': 'TS039', 'description': 'Repair the air conditioning unit in the main office.'}\n",
      "Missing data in task: {'id': 'TS040', 'description': 'Install new shelving units in the warehouse.'}\n",
      "Missing data in task: {'id': 'TS041', 'description': 'Install new telephone lines in the customer service center.'}\n",
      "Missing data in task: {'id': 'TS042', 'description': 'Install new ceiling fans in the residential units.'}\n",
      "Missing data in task: {'id': 'TS043', 'description': 'Paint the exterior walls of the main building.'}\n",
      "Missing data in task: {'id': 'TS044', 'description': 'Install new handrails in the stairwell.'}\n",
      "Missing data in task: {'id': 'TS045', 'description': 'Fix the broken security gate in the parking lot.'}\n",
      "Missing data in task: {'id': 'TS046', 'description': 'Install new blinds in the finance department.'}\n",
      "Missing data in task: {'id': 'TS047', 'description': 'Install new network cables in the IT department.'}\n",
      "Missing data in task: {'id': 'TS048', 'description': 'Repair the faulty card readers in the office building.'}\n",
      "Missing data in task: {'id': 'TS049', 'description': \"Install new signage in the visitor's parking area.\"}\n",
      "Missing data in task: {'id': 'TS050', 'description': 'Fix the broken security gate in the parking lot.'}\n",
      "Missing data in task: {'id': 'TS051', 'description': 'Replace the damaged tiles in the restroom.'}\n",
      "Missing data in task: {'id': 'TS052', 'description': 'Service the elevator control systems in the hotel.'}\n",
      "Missing data in task: {'id': 'TS053', 'description': 'Service the power supply units in the server room.'}\n",
      "Missing data in task: {'id': 'TS054', 'description': 'Install new bike racks in the company parking lot.'}\n",
      "Missing data in task: {'id': 'TS055', 'description': 'Repair the broken door lock in the storage room.'}\n",
      "Missing data in task: {'id': 'TS056', 'description': 'Install new ergonomic chairs in the training room.'}\n",
      "Missing data in task: {'id': 'TS057', 'description': 'Fix the broken water pump in the garden area.'}\n",
      "Missing data in task: {'id': 'TS058', 'description': 'Install new carpet in the executive offices.'}\n",
      "Missing data in task: {'id': 'TS059', 'description': 'Repair the leaky faucet in the employee lounge.'}\n",
      "Missing data in task: {'id': 'TS060', 'description': 'Install new ceiling fans in the residential units.'}\n",
      "Missing data in task: {'id': 'TS061', 'description': 'Service the air conditioning system in the laboratory.'}\n",
      "Missing data in task: {'id': 'TS062', 'description': 'Service the power supply units in the server room.'}\n",
      "Missing data in task: {'id': 'TS063', 'description': 'Service the HVAC ducts in the admin office.'}\n",
      "Missing data in task: {'id': 'TS064', 'description': 'Fix the broken power outlet in the production area.'}\n",
      "Missing data in task: {'id': 'TS065', 'description': 'Fix the broken heating unit in the storage warehouse.'}\n",
      "Missing data in task: {'id': 'TS066', 'description': 'Service the backup generator in the utility room.'}\n",
      "Missing data in task: {'id': 'TS067', 'description': 'Install new bike racks in the company parking lot.'}\n",
      "Missing data in task: {'id': 'TS068', 'description': 'Install new power strips in the computer lab.'}\n",
      "Missing data in task: {'id': 'TS069', 'description': 'Service the main boiler in the mechanical room.'}\n",
      "Missing data in task: {'id': 'TS070', 'description': 'Repair the leaking roof on the warehouse.'}\n",
      "Missing data in task: {'id': 'TS071', 'description': 'Repair the faulty card readers in the office building.'}\n",
      "Missing data in task: {'id': 'TS072', 'description': 'Service the water filtration system in the cafeteria.'}\n",
      "Missing data in task: {'id': 'TS073', 'description': 'Inspect and service the fire alarm system.'}\n",
      "Missing data in task: {'id': 'TS074', 'description': 'Install new flooring in the employee break room.'}\n",
      "Missing data in task: {'id': 'TS075', 'description': 'Fix the broken sprinkler heads in the garden.'}\n",
      "Missing data in task: {'id': 'TS076', 'description': 'Install new network switches in the data center.'}\n",
      "Missing data in task: {'id': 'TS077', 'description': 'Fix the broken power outlet in the production area.'}\n",
      "Missing data in task: {'id': 'TS078', 'description': 'Repair the faulty light switches in the auditorium.'}\n",
      "Missing data in task: {'id': 'TS079', 'description': 'Repair the faulty card readers in the office building.'}\n",
      "Missing data in task: {'id': 'TS080', 'description': 'Repair the air conditioning unit in the main office.'}\n",
      "Missing data in task: {'id': 'TS081', 'description': 'Service the central heating system in the admin offices.'}\n",
      "Missing data in task: {'id': 'TS082', 'description': 'Fix the broken sprinkler heads in the garden.'}\n",
      "Missing data in task: {'id': 'TS083', 'description': 'Repair the malfunctioning coffee machine in the break room.'}\n",
      "Missing data in task: {'id': 'TS084', 'description': 'Service the backup generator in the utility room.'}\n",
      "Missing data in task: {'id': 'TS085', 'description': 'Install new energy-efficient windows in the office block.'}\n",
      "Missing data in task: {'id': 'TS086', 'description': 'Repair the broken projector in the conference hall.'}\n",
      "Missing data in task: {'id': 'TS087', 'description': 'Service the HVAC system on the rooftop.'}\n",
      "Missing data in task: {'id': 'TS088', 'description': 'Repair the malfunctioning vending machine in the cafeteria.'}\n",
      "Missing data in task: {'id': 'TS089', 'description': 'Inspect and service the fire alarm system.'}\n",
      "Missing data in task: {'id': 'TS090', 'description': 'Inspect and service the fire alarm system.'}\n",
      "Missing data in task: {'id': 'TS091', 'description': 'Service the HVAC system on the rooftop.'}\n",
      "Missing data in task: {'id': 'TS092', 'description': 'Install new blinds in the finance department.'}\n",
      "Missing data in task: {'id': 'TS093', 'description': 'Repair the damaged security camera in the loading dock.'}\n",
      "Missing data in task: {'id': 'TS094', 'description': 'Install new blinds in the finance department.'}\n",
      "Missing data in task: {'id': 'TS095', 'description': 'Repair the malfunctioning thermostat in the conference room.'}\n",
      "Missing data in task: {'id': 'TS096', 'description': 'Fix the broken heating unit in the storage warehouse.'}\n",
      "Missing data in task: {'id': 'TS097', 'description': 'Repair the malfunctioning elevator in the lobby.'}\n",
      "Missing data in task: {'id': 'TS098', 'description': 'Service the heating system in the dormitories.'}\n",
      "Missing data in task: {'id': 'TS099', 'description': 'Install new ergonomic chairs in the training room.'}\n",
      "Missing data in task: {'id': 'TS100', 'description': 'Install new carpet in the executive offices.'}\n"
     ]
    }
   ],
   "source": [
    "# Check for and handle missing values\n",
    "for technician in technicians:\n",
    "    if not all(k in technician for k in [\"id\", \"name\", \"capabilities\", \"experience\", \"availability\", \"location\", \"performance\"]):\n",
    "        print(f\"Missing data in technician: {technician}\")\n",
    "\n",
    "for task in tasks:\n",
    "    if not all(k in task for k in [\"id\", \"description\", \"location\", \"priority\", \"required_skills\", \"assigned_technician\"]):\n",
    "        print(f\"Missing data in task: {task}\")"
   ]
  },
  {
   "cell_type": "code",
   "execution_count": 13,
   "metadata": {},
   "outputs": [],
   "source": [
    "# Find the top 3 matches for each task\n",
    "for task in tasks:\n",
    "    task = find_top_matches(task, technicians)\n"
   ]
  },
  {
   "cell_type": "code",
   "execution_count": 14,
   "metadata": {},
   "outputs": [
    {
     "data": {
      "text/plain": [
       "{'id': 'TS001',\n",
       " 'description': 'Fix the broken sprinkler system in the garden.',\n",
       " 'matches': [('T037', 0.16784373144103581),\n",
       "  ('T099', 0.16217783589273255),\n",
       "  ('T014', 0.1283719321986036)]}"
      ]
     },
     "execution_count": 14,
     "metadata": {},
     "output_type": "execute_result"
    }
   ],
   "source": [
    "tasks[0]"
   ]
  },
  {
   "cell_type": "code",
   "execution_count": 21,
   "metadata": {},
   "outputs": [
    {
     "name": "stdout",
     "output_type": "stream",
     "text": [
      "Accuracy: 7.00%\n"
     ]
    }
   ],
   "source": [
    "# Calculate accuracy\n",
    "correct_matches = 0\n",
    "total_tasks = len(tasks_with_technicians)\n",
    "\n",
    "for task, original_task in zip(tasks, tasks_with_technicians):\n",
    "\n",
    "    assigned_technician = original_task.get('assigned_technician')\n",
    "\n",
    "    if assigned_technician and assigned_technician in [match[0] for match in task['matches']]:\n",
    "        correct_matches += 1\n",
    "\n",
    "accuracy = correct_matches / total_tasks\n",
    "\n",
    "print(f\"Accuracy: {accuracy * 100:.2f}%\")\n"
   ]
  }
 ],
 "metadata": {
  "kernelspec": {
   "display_name": "Python 3",
   "language": "python",
   "name": "python3"
  },
  "language_info": {
   "codemirror_mode": {
    "name": "ipython",
    "version": 3
   },
   "file_extension": ".py",
   "mimetype": "text/x-python",
   "name": "python",
   "nbconvert_exporter": "python",
   "pygments_lexer": "ipython3",
   "version": "3.9.1"
  }
 },
 "nbformat": 4,
 "nbformat_minor": 2
}
